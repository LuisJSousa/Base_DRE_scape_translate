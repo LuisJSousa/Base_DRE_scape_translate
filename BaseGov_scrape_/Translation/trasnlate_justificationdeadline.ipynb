{
 "cells": [
  {
   "cell_type": "code",
   "execution_count": 21,
   "metadata": {},
   "outputs": [],
   "source": [
    "import pandas as pd"
   ]
  },
  {
   "cell_type": "markdown",
   "metadata": {},
   "source": [
    "\n",
    "translations = {}\n",
    "for column in df_en.columns:\n",
    "    # unique elements of the column\n",
    "    unique_elements = df_en[column].unique()\n",
    "    for element in unique_elements:\n",
    "        # add translation to the dictionary\n",
    "        translations[element] = translator.translate(element).text\n",
    "\n",
    "# modify all the terms of the data frame by using the previously created dictionary\n",
    "df_en.replace(translations, inplace = True)\n",
    "\n",
    "# check translation\n",
    "df_en.head()"
   ]
  },
  {
   "cell_type": "code",
   "execution_count": 22,
   "metadata": {},
   "outputs": [
    {
     "data": {
      "text/html": [
       "<div>\n",
       "<style scoped>\n",
       "    .dataframe tbody tr th:only-of-type {\n",
       "        vertical-align: middle;\n",
       "    }\n",
       "\n",
       "    .dataframe tbody tr th {\n",
       "        vertical-align: top;\n",
       "    }\n",
       "\n",
       "    .dataframe thead th {\n",
       "        text-align: right;\n",
       "    }\n",
       "</style>\n",
       "<table border=\"1\" class=\"dataframe\">\n",
       "  <thead>\n",
       "    <tr style=\"text-align: right;\">\n",
       "      <th></th>\n",
       "      <th>Unnamed: 0</th>\n",
       "      <th>ID</th>\n",
       "      <th>Short Description</th>\n",
       "      <th>Short Description.1</th>\n",
       "      <th>Cpvs</th>\n",
       "      <th>Cpvs Designation</th>\n",
       "      <th>Environmental criteria (T/F)</th>\n",
       "      <th>Publication Year</th>\n",
       "      <th>Close Year</th>\n",
       "      <th>Country</th>\n",
       "      <th>...</th>\n",
       "      <th>End of contract type</th>\n",
       "      <th>Number of bidders</th>\n",
       "      <th>Involves joint procurement (with several entities) (T/F)</th>\n",
       "      <th>Awarded by a central purchasing body (T/F)</th>\n",
       "      <th>Conclusion of a framework agreement (T/F)</th>\n",
       "      <th>Electronic auction (T/F)</th>\n",
       "      <th>Adopted a negotiation phase (T/F)</th>\n",
       "      <th>Contracting by lots (T/F)</th>\n",
       "      <th>Justification for change of deadline</th>\n",
       "      <th>Justification for price change</th>\n",
       "    </tr>\n",
       "  </thead>\n",
       "  <tbody>\n",
       "    <tr>\n",
       "      <th>0</th>\n",
       "      <td>0</td>\n",
       "      <td>9347658</td>\n",
       "      <td>Construção da rede de drenagem doméstica e plu...</td>\n",
       "      <td>Construction of the domestic and rainwater dra...</td>\n",
       "      <td>45231300-8</td>\n",
       "      <td>Construction work for water and sewage pipelines</td>\n",
       "      <td>False</td>\n",
       "      <td>2020.0</td>\n",
       "      <td>2022</td>\n",
       "      <td>Portugal</td>\n",
       "      <td>...</td>\n",
       "      <td>Complete fulfillment of the contract</td>\n",
       "      <td>4</td>\n",
       "      <td>0.0</td>\n",
       "      <td>0.0</td>\n",
       "      <td>0.0</td>\n",
       "      <td>0.0</td>\n",
       "      <td>0.0</td>\n",
       "      <td>NaN</td>\n",
       "      <td>Os trabalhos terminaram antes do prazo, eviden...</td>\n",
       "      <td>A revisão de preços</td>\n",
       "    </tr>\n",
       "    <tr>\n",
       "      <th>1</th>\n",
       "      <td>1</td>\n",
       "      <td>9331053</td>\n",
       "      <td>Reparações nas Piscinas Municipais</td>\n",
       "      <td>Repairs to Municipal Swimming Pools</td>\n",
       "      <td>45212290-5</td>\n",
       "      <td>Repair and maintenance work in connection with...</td>\n",
       "      <td>False</td>\n",
       "      <td>2020.0</td>\n",
       "      <td>2022</td>\n",
       "      <td>Portugal</td>\n",
       "      <td>...</td>\n",
       "      <td>Complete fulfillment of the contract</td>\n",
       "      <td>2</td>\n",
       "      <td>0.0</td>\n",
       "      <td>NaN</td>\n",
       "      <td>NaN</td>\n",
       "      <td>NaN</td>\n",
       "      <td>NaN</td>\n",
       "      <td>0.0</td>\n",
       "      <td>NaN</td>\n",
       "      <td>NaN</td>\n",
       "    </tr>\n",
       "    <tr>\n",
       "      <th>2</th>\n",
       "      <td>2</td>\n",
       "      <td>9328338</td>\n",
       "      <td>Empreitada de reabilitação da rampa varadouro ...</td>\n",
       "      <td>Rehabilitation contract for the beachside ramp...</td>\n",
       "      <td>45262330-3</td>\n",
       "      <td>Concrete repair work</td>\n",
       "      <td>False</td>\n",
       "      <td>2022.0</td>\n",
       "      <td>2022</td>\n",
       "      <td>Portugal</td>\n",
       "      <td>...</td>\n",
       "      <td>Complete fulfillment of the contract</td>\n",
       "      <td>5</td>\n",
       "      <td>NaN</td>\n",
       "      <td>NaN</td>\n",
       "      <td>NaN</td>\n",
       "      <td>NaN</td>\n",
       "      <td>NaN</td>\n",
       "      <td>NaN</td>\n",
       "      <td>Conclusão dos trabalhos efetuada antes do praz...</td>\n",
       "      <td>NaN</td>\n",
       "    </tr>\n",
       "    <tr>\n",
       "      <th>3</th>\n",
       "      <td>3</td>\n",
       "      <td>9305186</td>\n",
       "      <td>Reabilitação da Ponte do Cavalo em Travassós d...</td>\n",
       "      <td>Rehabilitation of the Cavalo Bridge in Travass...</td>\n",
       "      <td>45000000-7, 45221119-9</td>\n",
       "      <td>Construction work, Bridge renewal construction...</td>\n",
       "      <td>False</td>\n",
       "      <td>2020.0</td>\n",
       "      <td>2022</td>\n",
       "      <td>Portugal</td>\n",
       "      <td>...</td>\n",
       "      <td>Complete fulfillment of the contract</td>\n",
       "      <td>5</td>\n",
       "      <td>0.0</td>\n",
       "      <td>0.0</td>\n",
       "      <td>0.0</td>\n",
       "      <td>0.0</td>\n",
       "      <td>0.0</td>\n",
       "      <td>0.0</td>\n",
       "      <td>o\\tde 10-05-2021 a 15-06-2021 (37 dias), devid...</td>\n",
       "      <td>trabalhos complementares</td>\n",
       "    </tr>\n",
       "    <tr>\n",
       "      <th>4</th>\n",
       "      <td>4</td>\n",
       "      <td>9286914</td>\n",
       "      <td>Substituição da ponte em Moure de Madalena na ...</td>\n",
       "      <td>Replacement of the bridge in Moure de Madalena...</td>\n",
       "      <td>45221119-9</td>\n",
       "      <td>Bridge renewal construction work</td>\n",
       "      <td>False</td>\n",
       "      <td>2021.0</td>\n",
       "      <td>2022</td>\n",
       "      <td>Portugal</td>\n",
       "      <td>...</td>\n",
       "      <td>Complete fulfillment of the contract</td>\n",
       "      <td>9</td>\n",
       "      <td>0.0</td>\n",
       "      <td>0.0</td>\n",
       "      <td>0.0</td>\n",
       "      <td>0.0</td>\n",
       "      <td>0.0</td>\n",
       "      <td>0.0</td>\n",
       "      <td>Não houve alteração ao prazo de execução</td>\n",
       "      <td>Revisão de preços</td>\n",
       "    </tr>\n",
       "  </tbody>\n",
       "</table>\n",
       "<p>5 rows × 39 columns</p>\n",
       "</div>"
      ],
      "text/plain": [
       "   Unnamed: 0       ID                                  Short Description  \\\n",
       "0           0  9347658  Construção da rede de drenagem doméstica e plu...   \n",
       "1           1  9331053                 Reparações nas Piscinas Municipais   \n",
       "2           2  9328338  Empreitada de reabilitação da rampa varadouro ...   \n",
       "3           3  9305186  Reabilitação da Ponte do Cavalo em Travassós d...   \n",
       "4           4  9286914  Substituição da ponte em Moure de Madalena na ...   \n",
       "\n",
       "                                 Short Description.1                    Cpvs  \\\n",
       "0  Construction of the domestic and rainwater dra...              45231300-8   \n",
       "1                Repairs to Municipal Swimming Pools              45212290-5   \n",
       "2  Rehabilitation contract for the beachside ramp...              45262330-3   \n",
       "3  Rehabilitation of the Cavalo Bridge in Travass...  45000000-7, 45221119-9   \n",
       "4  Replacement of the bridge in Moure de Madalena...              45221119-9   \n",
       "\n",
       "                                    Cpvs Designation  \\\n",
       "0   Construction work for water and sewage pipelines   \n",
       "1  Repair and maintenance work in connection with...   \n",
       "2                               Concrete repair work   \n",
       "3  Construction work, Bridge renewal construction...   \n",
       "4                   Bridge renewal construction work   \n",
       "\n",
       "   Environmental criteria (T/F)  Publication Year  Close Year   Country  ...  \\\n",
       "0                         False            2020.0        2022  Portugal  ...   \n",
       "1                         False            2020.0        2022  Portugal  ...   \n",
       "2                         False            2022.0        2022  Portugal  ...   \n",
       "3                         False            2020.0        2022  Portugal  ...   \n",
       "4                         False            2021.0        2022  Portugal  ...   \n",
       "\n",
       "                   End of contract type Number of bidders  \\\n",
       "0  Complete fulfillment of the contract                 4   \n",
       "1  Complete fulfillment of the contract                 2   \n",
       "2  Complete fulfillment of the contract                 5   \n",
       "3  Complete fulfillment of the contract                 5   \n",
       "4  Complete fulfillment of the contract                 9   \n",
       "\n",
       "   Involves joint procurement (with several entities) (T/F)  \\\n",
       "0                                                0.0          \n",
       "1                                                0.0          \n",
       "2                                                NaN          \n",
       "3                                                0.0          \n",
       "4                                                0.0          \n",
       "\n",
       "   Awarded by a central purchasing body (T/F)  \\\n",
       "0                                         0.0   \n",
       "1                                         NaN   \n",
       "2                                         NaN   \n",
       "3                                         0.0   \n",
       "4                                         0.0   \n",
       "\n",
       "  Conclusion of a framework agreement (T/F) Electronic auction (T/F)  \\\n",
       "0                                       0.0                      0.0   \n",
       "1                                       NaN                      NaN   \n",
       "2                                       NaN                      NaN   \n",
       "3                                       0.0                      0.0   \n",
       "4                                       0.0                      0.0   \n",
       "\n",
       "   Adopted a negotiation phase (T/F)  Contracting by lots (T/F)  \\\n",
       "0                                0.0                        NaN   \n",
       "1                                NaN                        0.0   \n",
       "2                                NaN                        NaN   \n",
       "3                                0.0                        0.0   \n",
       "4                                0.0                        0.0   \n",
       "\n",
       "                Justification for change of deadline  \\\n",
       "0  Os trabalhos terminaram antes do prazo, eviden...   \n",
       "1                                                NaN   \n",
       "2  Conclusão dos trabalhos efetuada antes do praz...   \n",
       "3  o\\tde 10-05-2021 a 15-06-2021 (37 dias), devid...   \n",
       "4           Não houve alteração ao prazo de execução   \n",
       "\n",
       "   Justification for price change  \n",
       "0             A revisão de preços  \n",
       "1                             NaN  \n",
       "2                             NaN  \n",
       "3        trabalhos complementares  \n",
       "4               Revisão de preços  \n",
       "\n",
       "[5 rows x 39 columns]"
      ]
     },
     "execution_count": 22,
     "metadata": {},
     "output_type": "execute_result"
    }
   ],
   "source": [
    "dataset = pd.read_excel(r'excelpath.xlsx')\n",
    "dataset.head()"
   ]
  },
  {
   "cell_type": "code",
   "execution_count": 23,
   "metadata": {},
   "outputs": [],
   "source": [
    "dataset.columns\n",
    "ac = dataset[\"Justification for change of deadline\"]"
   ]
  },
  {
   "cell_type": "code",
   "execution_count": 24,
   "metadata": {},
   "outputs": [],
   "source": [
    "new = []\n",
    "for line in ac:\n",
    "    new.append(str(line))"
   ]
  },
  {
   "cell_type": "code",
   "execution_count": 25,
   "metadata": {},
   "outputs": [],
   "source": [
    "for i in new:\n",
    "    if len(i) > 5000:\n",
    "        print(new.index(i))\n",
    "        print(len(i))\n",
    "        print(i)\n",
    "\n"
   ]
  },
  {
   "cell_type": "code",
   "execution_count": 26,
   "metadata": {},
   "outputs": [],
   "source": [
    "from deep_translator import (GoogleTranslator,\n",
    "                             MicrosoftTranslator,\n",
    "                             PonsTranslator,\n",
    "                             LingueeTranslator,\n",
    "                             MyMemoryTranslator,\n",
    "                             YandexTranslator,\n",
    "                             PapagoTranslator,\n",
    "                             DeeplTranslator,\n",
    "                             QcriTranslator,\n",
    "                             single_detection,\n",
    "                             batch_detection)"
   ]
  },
  {
   "cell_type": "code",
   "execution_count": 27,
   "metadata": {},
   "outputs": [],
   "source": [
    "translator = GoogleTranslator(source=\"pt\",target=\"en\")\n",
    "translations = {}\n",
    "teste = new[0:100]\n",
    "\n",
    "for element in teste:\n",
    "    translations[str(element)] = translator.translate(text=element)"
   ]
  },
  {
   "cell_type": "code",
   "execution_count": 28,
   "metadata": {},
   "outputs": [],
   "source": [
    "teste = new[100:200]\n",
    "\n",
    "for element in teste:\n",
    "    translations[str(element)] = translator.translate(text=element)"
   ]
  },
  {
   "cell_type": "code",
   "execution_count": 29,
   "metadata": {},
   "outputs": [],
   "source": [
    "teste = new[200:300]\n",
    "\n",
    "for element in teste:\n",
    "    translations[str(element)] = translator.translate(text=element)"
   ]
  },
  {
   "cell_type": "code",
   "execution_count": 30,
   "metadata": {},
   "outputs": [],
   "source": [
    "teste = new[300:400]\n",
    "\n",
    "for element in teste:\n",
    "    translations[str(element)] = translator.translate(text=element)"
   ]
  },
  {
   "cell_type": "code",
   "execution_count": 31,
   "metadata": {},
   "outputs": [],
   "source": [
    "teste = new[400:500]\n",
    "\n",
    "for element in teste:\n",
    "    translations[str(element)] = translator.translate(text=element)"
   ]
  },
  {
   "cell_type": "code",
   "execution_count": 32,
   "metadata": {},
   "outputs": [],
   "source": [
    "teste = new[500:600]\n",
    "\n",
    "for element in teste:\n",
    "    translations[str(element)] = translator.translate(text=element)"
   ]
  },
  {
   "cell_type": "code",
   "execution_count": 33,
   "metadata": {},
   "outputs": [],
   "source": [
    "teste = new[600:700]\n",
    "\n",
    "for element in teste:\n",
    "    translations[str(element)] = translator.translate(text=element)"
   ]
  },
  {
   "cell_type": "code",
   "execution_count": 34,
   "metadata": {},
   "outputs": [],
   "source": [
    "teste = new[700:800]\n",
    "\n",
    "for element in teste:\n",
    "    translations[str(element)] = translator.translate(text=element)"
   ]
  },
  {
   "cell_type": "code",
   "execution_count": 35,
   "metadata": {},
   "outputs": [],
   "source": [
    "teste = new[800:900]\n",
    "\n",
    "for element in teste:\n",
    "    translations[str(element)] = translator.translate(text=element)"
   ]
  },
  {
   "cell_type": "code",
   "execution_count": 36,
   "metadata": {},
   "outputs": [],
   "source": [
    "teste = new[900:1000]\n",
    "\n",
    "for element in teste:\n",
    "    translations[str(element)] = translator.translate(text=element)"
   ]
  },
  {
   "cell_type": "code",
   "execution_count": 37,
   "metadata": {},
   "outputs": [],
   "source": [
    "teste = new[1000:2000]\n",
    "\n",
    "for element in teste:\n",
    "    translations[str(element)] = translator.translate(text=element)"
   ]
  },
  {
   "cell_type": "code",
   "execution_count": 38,
   "metadata": {},
   "outputs": [],
   "source": [
    "teste = new[2000:3000]\n",
    "\n",
    "for element in teste:\n",
    "    translations[str(element)] = translator.translate(text=element)"
   ]
  },
  {
   "cell_type": "code",
   "execution_count": 39,
   "metadata": {},
   "outputs": [],
   "source": [
    "teste = new[3000:4000]\n",
    "\n",
    "for element in teste:\n",
    "    translations[str(element)] = translator.translate(text=element)"
   ]
  },
  {
   "cell_type": "code",
   "execution_count": 40,
   "metadata": {},
   "outputs": [],
   "source": [
    "teste = new[4000:5000]\n",
    "\n",
    "for element in teste:\n",
    "    translations[str(element)] = translator.translate(text=element)"
   ]
  },
  {
   "cell_type": "code",
   "execution_count": 41,
   "metadata": {},
   "outputs": [],
   "source": [
    "teste = new[5000:5214]\n",
    "\n",
    "for element in teste:\n",
    "    translations[str(element)] = translator.translate(text=element)"
   ]
  },
  {
   "cell_type": "code",
   "execution_count": 44,
   "metadata": {},
   "outputs": [
    {
     "data": {
      "text/plain": [
       "0       Best value for money: No\\n \\nCriterion related...\n",
       "1                                                   Price\n",
       "2                               Deadline extension notice\n",
       "3       Best value for money: No\\n \\nCriterion related...\n",
       "4       Best value for money: No\\n \\nCriterion related...\n",
       "                              ...                        \n",
       "5209    Wrongly hyperlinked ad link \\ failed to downlo...\n",
       "5210    Wrongly hyperlinked ad link \\ failed to downlo...\n",
       "5211    Wrongly hyperlinked ad link \\ failed to downlo...\n",
       "5212    Wrongly hyperlinked ad link \\ failed to downlo...\n",
       "5213                Contract without details about the ad\n",
       "Name: Award criteria, Length: 5214, dtype: object"
      ]
     },
     "execution_count": 44,
     "metadata": {},
     "output_type": "execute_result"
    }
   ],
   "source": [
    "df = dataset[\"Justification for change of deadline\"].map(translations)"
   ]
  },
  {
   "cell_type": "code",
   "execution_count": 45,
   "metadata": {},
   "outputs": [
    {
     "name": "stdout",
     "output_type": "stream",
     "text": [
      "                                                                                                    0\n",
      "Melhor relação qualidade-preço: Não\\n \\nCritéri...  Best value for money: No\\n \\nCriterion related...\n",
      "Preço\\n                                                                                         Price\n",
      "Aviso de prorrogação de prazo                                               Deadline extension notice\n",
      "Melhor relação qualidade-preço: Não\\n \\nCritéri...  Best value for money: No\\n \\nCriterion related...\n",
      "Melhor relação qualidade-preço: Não\\n \\nCritéri...  Best value for money: No\\n \\nCriterion related...\n"
     ]
    }
   ],
   "source": [
    "import pandas as pd\n",
    "df = pd.DataFrame(translations, index=[0])\n",
    "df = (df.T)\n",
    "print(df.head())\n",
    "df.to_excel('translation_deadline.xlsx')"
   ]
  }
 ],
 "metadata": {
  "kernelspec": {
   "display_name": "Python 3.9.7 ('base')",
   "language": "python",
   "name": "python3"
  },
  "language_info": {
   "codemirror_mode": {
    "name": "ipython",
    "version": 3
   },
   "file_extension": ".py",
   "mimetype": "text/x-python",
   "name": "python",
   "nbconvert_exporter": "python",
   "pygments_lexer": "ipython3",
   "version": "3.9.7"
  },
  "orig_nbformat": 4,
  "vscode": {
   "interpreter": {
    "hash": "105a8a94f925c8999033141294ea89c9e4c6d0028b5f727f416b15911412adf5"
   }
  }
 },
 "nbformat": 4,
 "nbformat_minor": 2
}
