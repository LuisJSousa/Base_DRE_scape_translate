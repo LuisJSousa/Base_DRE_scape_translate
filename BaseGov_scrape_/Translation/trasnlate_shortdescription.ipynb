{
 "cells": [
  {
   "cell_type": "code",
   "execution_count": 59,
   "metadata": {},
   "outputs": [],
   "source": [
    "import pandas as pd\n",
    "from googletrans import Translator\n",
    "#translator = Translator()"
   ]
  },
  {
   "cell_type": "markdown",
   "metadata": {},
   "source": [
    "\n",
    "translations = {}\n",
    "for column in df_en.columns:\n",
    "    # unique elements of the column\n",
    "    unique_elements = df_en[column].unique()\n",
    "    for element in unique_elements:\n",
    "        # add translation to the dictionary\n",
    "        translations[element] = translator.translate(element).text\n",
    "\n",
    "# modify all the terms of the data frame by using the previously created dictionary\n",
    "df_en.replace(translations, inplace = True)\n",
    "\n",
    "# check translation\n",
    "df_en.head()"
   ]
  },
  {
   "cell_type": "code",
   "execution_count": 60,
   "metadata": {},
   "outputs": [
    {
     "data": {
      "text/html": [
       "<div>\n",
       "<style scoped>\n",
       "    .dataframe tbody tr th:only-of-type {\n",
       "        vertical-align: middle;\n",
       "    }\n",
       "\n",
       "    .dataframe tbody tr th {\n",
       "        vertical-align: top;\n",
       "    }\n",
       "\n",
       "    .dataframe thead th {\n",
       "        text-align: right;\n",
       "    }\n",
       "</style>\n",
       "<table border=\"1\" class=\"dataframe\">\n",
       "  <thead>\n",
       "    <tr style=\"text-align: right;\">\n",
       "      <th></th>\n",
       "      <th>Unnamed: 0</th>\n",
       "      <th>ID</th>\n",
       "      <th>Short Description</th>\n",
       "      <th>Cpvs</th>\n",
       "      <th>Cpvs Designation</th>\n",
       "      <th>Environmental criteria (T/F)</th>\n",
       "      <th>Publication Year</th>\n",
       "      <th>Close Year</th>\n",
       "      <th>Country</th>\n",
       "      <th>Municipality</th>\n",
       "      <th>...</th>\n",
       "      <th>End of contract type</th>\n",
       "      <th>Number of bidders</th>\n",
       "      <th>Involves joint procurement (with several entities) (T/F)</th>\n",
       "      <th>Awarded by a central purchasing body (T/F)</th>\n",
       "      <th>Conclusion of a framework agreement (T/F)</th>\n",
       "      <th>Electronic auction (T/F)</th>\n",
       "      <th>Adopted a negotiation phase (T/F)</th>\n",
       "      <th>Contracting by lots (T/F)</th>\n",
       "      <th>Justification for change of deadline</th>\n",
       "      <th>Justification for price change</th>\n",
       "    </tr>\n",
       "  </thead>\n",
       "  <tbody>\n",
       "    <tr>\n",
       "      <th>0</th>\n",
       "      <td>2430</td>\n",
       "      <td>4856540</td>\n",
       "      <td>Aquisição de Equipamentos e Obras</td>\n",
       "      <td>33100000-1</td>\n",
       "      <td>Medical equipments</td>\n",
       "      <td>False</td>\n",
       "      <td>2018.0</td>\n",
       "      <td>2018</td>\n",
       "      <td>Portugal</td>\n",
       "      <td>Barcelos</td>\n",
       "      <td>...</td>\n",
       "      <td>Complete fulfillment of the contract</td>\n",
       "      <td>0</td>\n",
       "      <td>NaN</td>\n",
       "      <td>NaN</td>\n",
       "      <td>NaN</td>\n",
       "      <td>NaN</td>\n",
       "      <td>NaN</td>\n",
       "      <td>NaN</td>\n",
       "      <td>NaN</td>\n",
       "      <td>NaN</td>\n",
       "    </tr>\n",
       "    <tr>\n",
       "      <th>1</th>\n",
       "      <td>2860</td>\n",
       "      <td>4089399</td>\n",
       "      <td>Fornecimento de equipamentos portuários e sua ...</td>\n",
       "      <td>34931000-2</td>\n",
       "      <td>Harbour equipment</td>\n",
       "      <td>False</td>\n",
       "      <td>2017.0</td>\n",
       "      <td>2019</td>\n",
       "      <td>Portugal</td>\n",
       "      <td>Figueira da Foz</td>\n",
       "      <td>...</td>\n",
       "      <td>Complete fulfillment of the contract</td>\n",
       "      <td>2</td>\n",
       "      <td>NaN</td>\n",
       "      <td>NaN</td>\n",
       "      <td>0.0</td>\n",
       "      <td>0.0</td>\n",
       "      <td>0.0</td>\n",
       "      <td>NaN</td>\n",
       "      <td>Prazo adicional de 10 dias</td>\n",
       "      <td>Prazo adicional de 10 dias</td>\n",
       "    </tr>\n",
       "    <tr>\n",
       "      <th>2</th>\n",
       "      <td>12</td>\n",
       "      <td>9144908</td>\n",
       "      <td>Reabilitação energética da escola do 1º ceb de...</td>\n",
       "      <td>45000000-7</td>\n",
       "      <td>Construction work</td>\n",
       "      <td>False</td>\n",
       "      <td>2020.0</td>\n",
       "      <td>2022</td>\n",
       "      <td>Portugal</td>\n",
       "      <td>Viseu</td>\n",
       "      <td>...</td>\n",
       "      <td>Complete fulfillment of the contract</td>\n",
       "      <td>4</td>\n",
       "      <td>0.0</td>\n",
       "      <td>0.0</td>\n",
       "      <td>0.0</td>\n",
       "      <td>0.0</td>\n",
       "      <td>0.0</td>\n",
       "      <td>0.0</td>\n",
       "      <td>Trabalhos complementares</td>\n",
       "      <td>Trabalhos complementares</td>\n",
       "    </tr>\n",
       "    <tr>\n",
       "      <th>3</th>\n",
       "      <td>15</td>\n",
       "      <td>9056685</td>\n",
       "      <td>Concurso Público Urgente n.º 83/2021/GRM - Rep...</td>\n",
       "      <td>45000000-7</td>\n",
       "      <td>Construction work</td>\n",
       "      <td>False</td>\n",
       "      <td>2021.0</td>\n",
       "      <td>2022</td>\n",
       "      <td>Portugal</td>\n",
       "      <td>Almada</td>\n",
       "      <td>...</td>\n",
       "      <td>Complete fulfillment of the contract</td>\n",
       "      <td>1</td>\n",
       "      <td>NaN</td>\n",
       "      <td>NaN</td>\n",
       "      <td>NaN</td>\n",
       "      <td>NaN</td>\n",
       "      <td>NaN</td>\n",
       "      <td>NaN</td>\n",
       "      <td>Os trabalhos prolongaram-se</td>\n",
       "      <td>NaN</td>\n",
       "    </tr>\n",
       "    <tr>\n",
       "      <th>4</th>\n",
       "      <td>65</td>\n",
       "      <td>7911827</td>\n",
       "      <td>Empreitada de Repavimentação de um Troço na Av...</td>\n",
       "      <td>45000000-7</td>\n",
       "      <td>Construction work</td>\n",
       "      <td>False</td>\n",
       "      <td>2021.0</td>\n",
       "      <td>2022</td>\n",
       "      <td>Portugal</td>\n",
       "      <td>Ponta Delgada</td>\n",
       "      <td>...</td>\n",
       "      <td>Complete fulfillment of the contract</td>\n",
       "      <td>0</td>\n",
       "      <td>NaN</td>\n",
       "      <td>NaN</td>\n",
       "      <td>NaN</td>\n",
       "      <td>NaN</td>\n",
       "      <td>NaN</td>\n",
       "      <td>NaN</td>\n",
       "      <td>Suspensão do prazo.</td>\n",
       "      <td>Trabalhos a menos e revisão de preços.</td>\n",
       "    </tr>\n",
       "  </tbody>\n",
       "</table>\n",
       "<p>5 rows × 38 columns</p>\n",
       "</div>"
      ],
      "text/plain": [
       "   Unnamed: 0       ID                                  Short Description  \\\n",
       "0        2430  4856540                  Aquisição de Equipamentos e Obras   \n",
       "1        2860  4089399  Fornecimento de equipamentos portuários e sua ...   \n",
       "2          12  9144908  Reabilitação energética da escola do 1º ceb de...   \n",
       "3          15  9056685  Concurso Público Urgente n.º 83/2021/GRM - Rep...   \n",
       "4          65  7911827  Empreitada de Repavimentação de um Troço na Av...   \n",
       "\n",
       "         Cpvs    Cpvs Designation  Environmental criteria (T/F)  \\\n",
       "0  33100000-1  Medical equipments                         False   \n",
       "1  34931000-2   Harbour equipment                         False   \n",
       "2  45000000-7   Construction work                         False   \n",
       "3  45000000-7   Construction work                         False   \n",
       "4  45000000-7   Construction work                         False   \n",
       "\n",
       "   Publication Year  Close Year   Country      Municipality  ...  \\\n",
       "0            2018.0        2018  Portugal          Barcelos  ...   \n",
       "1            2017.0        2019  Portugal   Figueira da Foz  ...   \n",
       "2            2020.0        2022  Portugal             Viseu  ...   \n",
       "3            2021.0        2022  Portugal            Almada  ...   \n",
       "4            2021.0        2022  Portugal     Ponta Delgada  ...   \n",
       "\n",
       "                   End of contract type  Number of bidders  \\\n",
       "0  Complete fulfillment of the contract                  0   \n",
       "1  Complete fulfillment of the contract                  2   \n",
       "2  Complete fulfillment of the contract                  4   \n",
       "3  Complete fulfillment of the contract                  1   \n",
       "4  Complete fulfillment of the contract                  0   \n",
       "\n",
       "   Involves joint procurement (with several entities) (T/F)  \\\n",
       "0                                                NaN          \n",
       "1                                                NaN          \n",
       "2                                                0.0          \n",
       "3                                                NaN          \n",
       "4                                                NaN          \n",
       "\n",
       "  Awarded by a central purchasing body (T/F)  \\\n",
       "0                                        NaN   \n",
       "1                                        NaN   \n",
       "2                                        0.0   \n",
       "3                                        NaN   \n",
       "4                                        NaN   \n",
       "\n",
       "  Conclusion of a framework agreement (T/F)  Electronic auction (T/F)  \\\n",
       "0                                       NaN                       NaN   \n",
       "1                                       0.0                       0.0   \n",
       "2                                       0.0                       0.0   \n",
       "3                                       NaN                       NaN   \n",
       "4                                       NaN                       NaN   \n",
       "\n",
       "   Adopted a negotiation phase (T/F)  Contracting by lots (T/F)  \\\n",
       "0                                NaN                        NaN   \n",
       "1                                0.0                        NaN   \n",
       "2                                0.0                        0.0   \n",
       "3                                NaN                        NaN   \n",
       "4                                NaN                        NaN   \n",
       "\n",
       "   Justification for change of deadline  \\\n",
       "0                                   NaN   \n",
       "1            Prazo adicional de 10 dias   \n",
       "2              Trabalhos complementares   \n",
       "3           Os trabalhos prolongaram-se   \n",
       "4                   Suspensão do prazo.   \n",
       "\n",
       "           Justification for price change  \n",
       "0                                     NaN  \n",
       "1              Prazo adicional de 10 dias  \n",
       "2                Trabalhos complementares  \n",
       "3                                     NaN  \n",
       "4  Trabalhos a menos e revisão de preços.  \n",
       "\n",
       "[5 rows x 38 columns]"
      ]
     },
     "execution_count": 60,
     "metadata": {},
     "output_type": "execute_result"
    }
   ],
   "source": [
    "dataset = pd.read_excel(r'excelpath.xlsx')\n",
    "dataset.head()"
   ]
  },
  {
   "cell_type": "code",
   "execution_count": 61,
   "metadata": {},
   "outputs": [],
   "source": [
    "design = dataset[\"Short Description\"]"
   ]
  },
  {
   "cell_type": "code",
   "execution_count": 62,
   "metadata": {},
   "outputs": [],
   "source": [
    "new = []\n",
    "for line in design:\n",
    "    new.append(str(line))"
   ]
  },
  {
   "cell_type": "code",
   "execution_count": 63,
   "metadata": {},
   "outputs": [],
   "source": [
    "from deep_translator import (GoogleTranslator,\n",
    "                             MicrosoftTranslator,\n",
    "                             PonsTranslator,\n",
    "                             LingueeTranslator,\n",
    "                             MyMemoryTranslator,\n",
    "                             YandexTranslator,\n",
    "                             PapagoTranslator,\n",
    "                             DeeplTranslator,\n",
    "                             QcriTranslator,\n",
    "                             single_detection,\n",
    "                             batch_detection)"
   ]
  },
  {
   "cell_type": "code",
   "execution_count": 64,
   "metadata": {},
   "outputs": [],
   "source": [
    "translator = GoogleTranslator(source=\"pt\",target=\"en\")\n",
    "translations = {}\n",
    "teste = new[0:100]\n",
    "\n",
    "for element in teste:\n",
    "    translations[str(element)] = translator.translate(text=element)"
   ]
  },
  {
   "cell_type": "code",
   "execution_count": 65,
   "metadata": {},
   "outputs": [],
   "source": [
    "teste = new[100:200]\n",
    "\n",
    "for element in teste:\n",
    "    translations[str(element)] = translator.translate(text=element)"
   ]
  },
  {
   "cell_type": "code",
   "execution_count": 66,
   "metadata": {},
   "outputs": [],
   "source": [
    "teste = new[200:300]\n",
    "\n",
    "for element in teste:\n",
    "    translations[str(element)] = translator.translate(text=element)"
   ]
  },
  {
   "cell_type": "code",
   "execution_count": 67,
   "metadata": {},
   "outputs": [],
   "source": [
    "teste = new[300:400]\n",
    "\n",
    "for element in teste:\n",
    "    translations[str(element)] = translator.translate(text=element)"
   ]
  },
  {
   "cell_type": "code",
   "execution_count": 68,
   "metadata": {},
   "outputs": [],
   "source": [
    "teste = new[400:500]\n",
    "\n",
    "for element in teste:\n",
    "    translations[str(element)] = translator.translate(text=element)"
   ]
  },
  {
   "cell_type": "code",
   "execution_count": 69,
   "metadata": {},
   "outputs": [],
   "source": [
    "teste = new[500:600]\n",
    "\n",
    "for element in teste:\n",
    "    translations[str(element)] = translator.translate(text=element)"
   ]
  },
  {
   "cell_type": "code",
   "execution_count": 70,
   "metadata": {},
   "outputs": [],
   "source": [
    "teste = new[600:700]\n",
    "\n",
    "for element in teste:\n",
    "    translations[str(element)] = translator.translate(text=element)"
   ]
  },
  {
   "cell_type": "code",
   "execution_count": 71,
   "metadata": {},
   "outputs": [],
   "source": [
    "teste = new[700:800]\n",
    "\n",
    "for element in teste:\n",
    "    translations[str(element)] = translator.translate(text=element)"
   ]
  },
  {
   "cell_type": "code",
   "execution_count": 72,
   "metadata": {},
   "outputs": [],
   "source": [
    "teste = new[800:900]\n",
    "\n",
    "for element in teste:\n",
    "    translations[str(element)] = translator.translate(text=element)"
   ]
  },
  {
   "cell_type": "code",
   "execution_count": 73,
   "metadata": {},
   "outputs": [],
   "source": [
    "teste = new[900:1000]\n",
    "\n",
    "for element in teste:\n",
    "    translations[str(element)] = translator.translate(text=element)"
   ]
  },
  {
   "cell_type": "code",
   "execution_count": 74,
   "metadata": {},
   "outputs": [],
   "source": [
    "teste = new[1000:2000]\n",
    "\n",
    "for element in teste:\n",
    "    translations[str(element)] = translator.translate(text=element)"
   ]
  },
  {
   "cell_type": "code",
   "execution_count": 75,
   "metadata": {},
   "outputs": [],
   "source": [
    "teste = new[2000:3000]\n",
    "\n",
    "for element in teste:\n",
    "    translations[str(element)] = translator.translate(text=element)"
   ]
  },
  {
   "cell_type": "code",
   "execution_count": 76,
   "metadata": {},
   "outputs": [],
   "source": [
    "teste = new[3000:4000]\n",
    "\n",
    "for element in teste:\n",
    "    translations[str(element)] = translator.translate(text=element)"
   ]
  },
  {
   "cell_type": "code",
   "execution_count": 77,
   "metadata": {},
   "outputs": [],
   "source": [
    "teste = new[4000:5000]\n",
    "\n",
    "for element in teste:\n",
    "    translations[str(element)] = translator.translate(text=element)"
   ]
  },
  {
   "cell_type": "code",
   "execution_count": 78,
   "metadata": {},
   "outputs": [],
   "source": [
    "teste = new[5000:5214]\n",
    "\n",
    "for element in teste:\n",
    "    translations[str(element)] = translator.translate(text=element)"
   ]
  },
  {
   "cell_type": "code",
   "execution_count": null,
   "metadata": {},
   "outputs": [],
   "source": [
    "import pandas as pd\n",
    "\n",
    "df = pd.DataFrame(translations, index=[0])\n",
    "df = (df.T)\n",
    "print(df.head())\n",
    "df.to_excel('translation.xlsx')"
   ]
  }
 ],
 "metadata": {
  "kernelspec": {
   "display_name": "Python 3.9.7 ('base')",
   "language": "python",
   "name": "python3"
  },
  "language_info": {
   "codemirror_mode": {
    "name": "ipython",
    "version": 3
   },
   "file_extension": ".py",
   "mimetype": "text/x-python",
   "name": "python",
   "nbconvert_exporter": "python",
   "pygments_lexer": "ipython3",
   "version": "3.9.7"
  },
  "orig_nbformat": 4,
  "vscode": {
   "interpreter": {
    "hash": "105a8a94f925c8999033141294ea89c9e4c6d0028b5f727f416b15911412adf5"
   }
  }
 },
 "nbformat": 4,
 "nbformat_minor": 2
}
